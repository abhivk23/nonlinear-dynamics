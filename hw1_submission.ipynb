{
 "cells": [
  {
   "cell_type": "code",
   "execution_count": 1,
   "metadata": {},
   "outputs": [],
   "source": [
    "## Homework Set #1\n",
    "## Nonlinear Dynamics & Chaos -- Spring 2021\n",
    "## Abhiram Kakuturu\n",
    "import hw1"
   ]
  },
  {
   "cell_type": "markdown",
   "metadata": {},
   "source": [
    "## 1 Babylonian Algorithm for SQRT(2)\n",
    "Both recursive and iterative implementations of the algorithm produce the correct answer though iteration substantially improves time complexity. The initial guess of 99.0 converges well before the dozen iterations (at 10e-3 threshold)."
   ]
  },
  {
   "cell_type": "code",
   "execution_count": 2,
   "metadata": {},
   "outputs": [
    {
     "name": "stdout",
     "output_type": "stream",
     "text": [
      "We're inspired to guess: 99\n",
      "Guess  99.0  Relative Error:  69.0035713374682\n",
      "Guess:  49.51010101010101  Relative Error:  34.008928161473364\n",
      "Guess:  24.775248403652974  Relative Error:  16.5187461518042\n",
      "Guess:  12.427987066557746  Relative Error:  7.78791393126169\n",
      "Guess:  6.2944570865996585  Relative Error:  3.450853289822338\n",
      "Guess:  3.306098480173164  Relative Error:  1.3377646546009825\n",
      "Guess:  1.9555205687529993  Relative Error:  0.38276185491501996\n",
      "Guess:  1.4891330696996845  Relative Error:  0.052976091673786564\n",
      "Guess:  1.4160981933346486  Relative Error:  0.0013326353329485652\n",
      "Guess:  1.4142148164647526  Relative Error:  8.867767151840681e-07\n"
     ]
    },
    {
     "data": {
      "text/plain": [
       "1.4142135623736511"
      ]
     },
     "execution_count": 2,
     "metadata": {},
     "output_type": "execute_result"
    }
   ],
   "source": [
    "# n=12 iterations of the algorithm\n",
    "hw1.babylonian_sqrt_two(n=12)"
   ]
  },
  {
   "cell_type": "markdown",
   "metadata": {},
   "source": [
    "## 2 Convergence of Relative Error\n",
    "(a) As expected in #1, each successive guess converges more quickly to the approximation. The recursive relation for the relative error terms is derived by utilizing the recursive relation for successive approximations:\n",
    "$$\n",
    "e_r = \\frac{P_r-\\sqrt{2}}{\\sqrt{2}} \\implies P_r = \\sqrt{2}(e_r+1)\n",
    "$$\n",
    "$$\n",
    "P_{r+1} = \\frac{1}{2}[\\sqrt{2}(e_r+1) + \\frac{2}{\\sqrt{2}(e_r+1)}] = \\sqrt{2}(e_{r+1}+1)\n",
    "$$\n",
    "$$\n",
    "\\implies \\frac{1}{2}[(e_r+1) + \\frac{1}{(e_r+1)}]-1 = e_{r+1}\n",
    "$$\n",
    "$$\n",
    "\\implies e_{r+1} = \\frac{1}{2}[e_r+\\frac{1}{(e_r+1)}]-\\frac{1}{2}\n",
    "$$\n"
   ]
  },
  {
   "cell_type": "code",
   "execution_count": 3,
   "metadata": {},
   "outputs": [
    {
     "name": "stdout",
     "output_type": "stream",
     "text": [
      "We're inspired to guess: 6472\n",
      "Guess  6472.0  Relative Error:  4575.395087839335\n",
      "Guess:  3236.000154511743  Relative Error:  2287.197653175969\n",
      "Guess:  1618.0003862793426  Relative Error:  1143.0990451005764\n",
      "Guess:  809.0008111864953  Relative Error:  571.0499595753886\n",
      "Guess:  404.50164168595137  Relative Error:  285.02585383722726\n",
      "Guess:  202.2532930208285  Relative Error:  142.01467501233765\n",
      "Guess:  101.13159080568413  Relative Error:  70.51083365088235\n",
      "Guess:  50.57568350993139  Relative Error:  34.762408773017135\n",
      "Guess:  25.307614102675114  Relative Error:  16.895185547653874\n",
      "Guess:  12.69332085125338  Relative Error:  7.975533249697865\n",
      "Guess:  6.425442015702171  Relative Error:  3.543473621423964\n",
      "Guess:  3.368352324351375  Relative Error:  1.3817847699743262\n",
      "Guess:  1.98105721965015  Relative Error:  0.40081899393318865\n"
     ]
    },
    {
     "data": {
      "text/plain": [
       "1.4953095874167257"
      ]
     },
     "execution_count": 3,
     "metadata": {},
     "output_type": "execute_result"
    }
   ],
   "source": [
    "# (b) Using different initial guesses (6472, 1.5, 0.05)\n",
    "# The algorithm does work for guesses well above, well below, and near the expected value\n",
    "hw1.babylonian_sqrt_two(n=12)"
   ]
  },
  {
   "cell_type": "code",
   "execution_count": 4,
   "metadata": {},
   "outputs": [
    {
     "name": "stdout",
     "output_type": "stream",
     "text": [
      "We're inspired to guess: 1.5\n",
      "Guess  1.5  Relative Error:  0.06066017177982121\n",
      "Guess:  1.4166666666666665  Relative Error:  0.001734606680942153\n",
      "Guess:  1.4142156862745097  Relative Error:  1.5018250927781735e-06\n"
     ]
    },
    {
     "data": {
      "text/plain": [
       "1.4142135623746899"
      ]
     },
     "execution_count": 4,
     "metadata": {},
     "output_type": "execute_result"
    }
   ],
   "source": [
    "hw1.babylonian_sqrt_two(n=12)"
   ]
  },
  {
   "cell_type": "code",
   "execution_count": 8,
   "metadata": {},
   "outputs": [
    {
     "name": "stdout",
     "output_type": "stream",
     "text": [
      "We're inspired to guess: 0.05\n",
      "Guess  0.05  Relative Error:  -0.9646446609406726\n",
      "Guess  20.025  Relative Error:  13.159813293260612\n",
      "Guess  10.062437578027465  Relative Error:  6.115217846689559\n",
      "Guess  5.130598287494659  Relative Error:  2.6278808406315615\n",
      "Guess  2.7602081863120933  Relative Error:  0.9517619260279024\n",
      "Guess  1.7423956061509767  Relative Error:  0.23205974861900042\n",
      "Guess  1.4451202788151059  Relative Error:  0.021854348780355533\n",
      "Guess  1.4145440625865477  Relative Error:  0.00023369894211593505\n"
     ]
    }
   ],
   "source": [
    "hw1.babylonian_sqrt_two(n=12)"
   ]
  },
  {
   "cell_type": "code",
   "execution_count": 9,
   "metadata": {},
   "outputs": [
    {
     "name": "stdout",
     "output_type": "stream",
     "text": [
      "We're inspired to guess: 1.4\n",
      "Guess  1.4  Relative Error:  -0.010050506338833596\n",
      "Guess  1.4142857142857141  Relative Error:  5.10191066884746e-05\n"
     ]
    }
   ],
   "source": [
    "hw1.babylonian_sqrt_two(n=12)"
   ]
  },
  {
   "cell_type": "code",
   "execution_count": 10,
   "metadata": {},
   "outputs": [
    {
     "name": "stdout",
     "output_type": "stream",
     "text": [
      "We're inspired to guess: -99\n",
      "Guess  -99.0  Relative Error:  -71.0035713374682\n",
      "Guess  -49.51010101010101  Relative Error:  -36.00892816147336\n",
      "Guess  -24.775248403652974  Relative Error:  -18.518746151804205\n",
      "Guess  -12.427987066557746  Relative Error:  -9.787913931261691\n",
      "Guess  -6.2944570865996585  Relative Error:  -5.450853289822338\n",
      "Guess  -3.306098480173164  Relative Error:  -3.3377646546009823\n",
      "Guess  -1.9555205687529993  Relative Error:  -2.3827618549150196\n",
      "Guess  -1.4891330696996845  Relative Error:  -2.052976091673787\n",
      "Guess  -1.4160981933346486  Relative Error:  -2.0013326353329486\n",
      "Guess  -1.4142148164647526  Relative Error:  -2.000000886776715\n"
     ]
    }
   ],
   "source": [
    "# (d) If we start with a negative guess we get a negative solution (which is analytically obvious from the algorithm).\n",
    "# In some sense this means that the algorithm is \"dummy proof\" EXCEPT when we guess 0 because we have a divide by 0 error and can't iterate.\n",
    "hw1.babylonian_sqrt_two(n=12)"
   ]
  },
  {
   "cell_type": "code",
   "execution_count": 11,
   "metadata": {},
   "outputs": [
    {
     "name": "stdout",
     "output_type": "stream",
     "text": [
      "We're inspired to guess: 0\n",
      "Guess  0.0  Relative Error:  -1.0\n"
     ]
    },
    {
     "ename": "ZeroDivisionError",
     "evalue": "float division by zero",
     "output_type": "error",
     "traceback": [
      "\u001b[0;31m---------------------------------------------------------------------------\u001b[0m",
      "\u001b[0;31mZeroDivisionError\u001b[0m                         Traceback (most recent call last)",
      "\u001b[0;32m<ipython-input-11-db21c3eb7665>\u001b[0m in \u001b[0;36m<module>\u001b[0;34m\u001b[0m\n\u001b[0;32m----> 1\u001b[0;31m \u001b[0mhw1\u001b[0m\u001b[0;34m.\u001b[0m\u001b[0mbabylonian_sqrt_two\u001b[0m\u001b[0;34m(\u001b[0m\u001b[0mn\u001b[0m\u001b[0;34m=\u001b[0m\u001b[0;36m12\u001b[0m\u001b[0;34m)\u001b[0m\u001b[0;34m\u001b[0m\u001b[0;34m\u001b[0m\u001b[0m\n\u001b[0m",
      "\u001b[0;32m~/nonlinear-dynamics-chaos/hw1.py\u001b[0m in \u001b[0;36mbabylonian_sqrt_two\u001b[0;34m(n)\u001b[0m\n\u001b[1;32m     33\u001b[0m     \u001b[0mp_0\u001b[0m \u001b[0;34m=\u001b[0m \u001b[0mfloat\u001b[0m\u001b[0;34m(\u001b[0m\u001b[0minput\u001b[0m\u001b[0;34m(\u001b[0m\u001b[0;34m\"We're inspired to guess: \"\u001b[0m\u001b[0;34m)\u001b[0m\u001b[0;34m)\u001b[0m\u001b[0;34m\u001b[0m\u001b[0;34m\u001b[0m\u001b[0m\n\u001b[1;32m     34\u001b[0m     \u001b[0mprint\u001b[0m\u001b[0;34m(\u001b[0m\u001b[0;34m\"Guess \"\u001b[0m\u001b[0;34m,\u001b[0m \u001b[0mp_0\u001b[0m\u001b[0;34m,\u001b[0m \u001b[0;34m\" Relative Error: \"\u001b[0m\u001b[0;34m,\u001b[0m \u001b[0mrel_error\u001b[0m\u001b[0;34m(\u001b[0m\u001b[0mp_0\u001b[0m\u001b[0;34m,\u001b[0m\u001b[0mmath\u001b[0m\u001b[0;34m.\u001b[0m\u001b[0msqrt\u001b[0m\u001b[0;34m(\u001b[0m\u001b[0;36m2\u001b[0m\u001b[0;34m)\u001b[0m\u001b[0;34m)\u001b[0m\u001b[0;34m)\u001b[0m\u001b[0;34m\u001b[0m\u001b[0;34m\u001b[0m\u001b[0m\n\u001b[0;32m---> 35\u001b[0;31m     \u001b[0mp_n\u001b[0m \u001b[0;34m=\u001b[0m \u001b[0;34m(\u001b[0m\u001b[0mp_0\u001b[0m\u001b[0;34m+\u001b[0m\u001b[0;34m(\u001b[0m\u001b[0;36m2\u001b[0m\u001b[0;34m/\u001b[0m\u001b[0mp_0\u001b[0m\u001b[0;34m)\u001b[0m\u001b[0;34m)\u001b[0m\u001b[0;34m/\u001b[0m\u001b[0;36m2\u001b[0m\u001b[0;34m\u001b[0m\u001b[0;34m\u001b[0m\u001b[0m\n\u001b[0m\u001b[1;32m     36\u001b[0m     \u001b[0;32mwhile\u001b[0m\u001b[0;34m(\u001b[0m\u001b[0mabs\u001b[0m\u001b[0;34m(\u001b[0m\u001b[0mp_n\u001b[0m\u001b[0;34m-\u001b[0m\u001b[0mp_0\u001b[0m\u001b[0;34m)\u001b[0m \u001b[0;34m>\u001b[0m \u001b[0;36m0.001\u001b[0m \u001b[0;32mand\u001b[0m \u001b[0mn\u001b[0m\u001b[0;34m>\u001b[0m\u001b[0;36m0\u001b[0m\u001b[0;34m)\u001b[0m\u001b[0;34m:\u001b[0m\u001b[0;34m\u001b[0m\u001b[0;34m\u001b[0m\u001b[0m\n\u001b[1;32m     37\u001b[0m         \u001b[0mprint\u001b[0m\u001b[0;34m(\u001b[0m\u001b[0;34m\"Guess: \"\u001b[0m\u001b[0;34m,\u001b[0m \u001b[0mp_n\u001b[0m\u001b[0;34m,\u001b[0m \u001b[0;34m\" Relative Error: \"\u001b[0m\u001b[0;34m,\u001b[0m \u001b[0mrel_error\u001b[0m\u001b[0;34m(\u001b[0m\u001b[0mp_n\u001b[0m\u001b[0;34m,\u001b[0m\u001b[0mmath\u001b[0m\u001b[0;34m.\u001b[0m\u001b[0msqrt\u001b[0m\u001b[0;34m(\u001b[0m\u001b[0;36m2\u001b[0m\u001b[0;34m)\u001b[0m\u001b[0;34m)\u001b[0m\u001b[0;34m)\u001b[0m\u001b[0;34m\u001b[0m\u001b[0;34m\u001b[0m\u001b[0m\n",
      "\u001b[0;31mZeroDivisionError\u001b[0m: float division by zero"
     ]
    }
   ],
   "source": [
    "hw1.babylonian_sqrt_two(n=12)"
   ]
  },
  {
   "cell_type": "markdown",
   "metadata": {},
   "source": [
    "## 3 Generalizing for Arbitrary Square Roots\n",
    "Solving for the roots of $f(x)=x^2-a$:\n",
    "$$\n",
    "Roots: 0=x^2-a \\implies x=\\pm\\sqrt{2}\n",
    "$$\n",
    "Our condition for convergence then requires that our squared guess is not different from the the intercept 'a'. We make a quick modification to the original Babylonian algorithm such that $p_{r+1}=\\frac{1}{2}(p_r+\\frac{a}{p_r}$). Under the assumption of an \"inspired\" near guess, we yield a similar rate of error convergence as the square root of 2 algorithm. "
   ]
  },
  {
   "cell_type": "code",
   "execution_count": 17,
   "metadata": {},
   "outputs": [
    {
     "name": "stdout",
     "output_type": "stream",
     "text": [
      "We're inspired to guess: 9\n",
      "Guess  9.0  Relative Error:  0.125\n",
      "Guess  8.055555555555555  Relative Error:  0.00694444444444442\n",
      "Guess  8.000191570881226  Relative Error:  2.3946360153237478e-05\n"
     ]
    },
    {
     "data": {
      "text/plain": [
       "8.000000002293657"
      ]
     },
     "execution_count": 17,
     "metadata": {},
     "output_type": "execute_result"
    }
   ],
   "source": [
    "a = 64\n",
    "hw1.babylonian_sqrt(a)"
   ]
  },
  {
   "cell_type": "markdown",
   "metadata": {},
   "source": [
    "## 4 Extending the Range of Guesses \n",
    "A few computations using \"less inspired\" initial guesses reveals that the new algorithm converges towards the stable roots "
   ]
  },
  {
   "cell_type": "code",
   "execution_count": 18,
   "metadata": {},
   "outputs": [
    {
     "name": "stdout",
     "output_type": "stream",
     "text": [
      "We're inspired to guess: 333\n",
      "Guess  333.0  Relative Error:  40.625\n",
      "Guess  166.5960960960961  Relative Error:  19.82451201201201\n",
      "Guess  83.4901293797831  Relative Error:  9.436266172472887\n",
      "Guess  42.1283435306086  Relative Error:  4.266042941326075\n",
      "Guess  21.82375539281508  Relative Error:  1.727969424101885\n",
      "Guess  12.378169790688215  Relative Error:  0.5472712238360269\n",
      "Guess  8.77428129684062  Relative Error:  0.09678516210507748\n",
      "Guess  8.03416299901697  Relative Error:  0.004270374877121341\n",
      "Guess  8.00007263423097  Relative Error:  9.079278871171326e-06\n"
     ]
    },
    {
     "data": {
      "text/plain": [
       "8.000000000329731"
      ]
     },
     "execution_count": 18,
     "metadata": {},
     "output_type": "execute_result"
    }
   ],
   "source": [
    "a = 64\n",
    "hw1.babylonian_sqrt(a)"
   ]
  },
  {
   "cell_type": "code",
   "execution_count": 14,
   "metadata": {},
   "outputs": [
    {
     "name": "stdout",
     "output_type": "stream",
     "text": [
      "We're inspired to guess: -7.8\n",
      "Guess  -7.8  Relative Error:  -1.975\n",
      "Guess  -8.002564102564103  Relative Error:  -2.0003205128205126\n"
     ]
    },
    {
     "data": {
      "text/plain": [
       "-8.000000410782212"
      ]
     },
     "execution_count": 14,
     "metadata": {},
     "output_type": "execute_result"
    }
   ],
   "source": [
    "# The negative initial guess problem we see in the sqrt(2) algorithm seems to manifest itself here too.\n",
    "# HOWEVER this function actually has 2 valid roots, which means that the negative root convergence behavior is also valid.\n",
    "a = 64\n",
    "hw1.babylonian_sqrt(a)"
   ]
  },
  {
   "cell_type": "code",
   "execution_count": 15,
   "metadata": {},
   "outputs": [
    {
     "name": "stdout",
     "output_type": "stream",
     "text": [
      "We're inspired to guess: 0\n",
      "Guess  0.0  Relative Error:  -1.0\n"
     ]
    },
    {
     "ename": "ZeroDivisionError",
     "evalue": "float division by zero",
     "output_type": "error",
     "traceback": [
      "\u001b[0;31m---------------------------------------------------------------------------\u001b[0m",
      "\u001b[0;31mZeroDivisionError\u001b[0m                         Traceback (most recent call last)",
      "\u001b[0;32m<ipython-input-15-947f66587b20>\u001b[0m in \u001b[0;36m<module>\u001b[0;34m\u001b[0m\n\u001b[1;32m      1\u001b[0m \u001b[0;31m# as well as the incompatibility of an initial guess of 0\u001b[0m\u001b[0;34m\u001b[0m\u001b[0;34m\u001b[0m\u001b[0;34m\u001b[0m\u001b[0m\n\u001b[1;32m      2\u001b[0m \u001b[0ma\u001b[0m \u001b[0;34m=\u001b[0m \u001b[0;36m64\u001b[0m\u001b[0;34m\u001b[0m\u001b[0;34m\u001b[0m\u001b[0m\n\u001b[0;32m----> 3\u001b[0;31m \u001b[0mhw1\u001b[0m\u001b[0;34m.\u001b[0m\u001b[0mbabylonian_sqrt\u001b[0m\u001b[0;34m(\u001b[0m\u001b[0ma\u001b[0m\u001b[0;34m)\u001b[0m\u001b[0;34m\u001b[0m\u001b[0;34m\u001b[0m\u001b[0m\n\u001b[0m",
      "\u001b[0;32m~/nonlinear-dynamics-chaos/hw1.py\u001b[0m in \u001b[0;36mbabylonian_sqrt\u001b[0;34m(a)\u001b[0m\n\u001b[1;32m     54\u001b[0m             \u001b[0mprint\u001b[0m\u001b[0;34m(\u001b[0m\u001b[0;34m\"Guess \"\u001b[0m\u001b[0;34m,\u001b[0m \u001b[0mp_0\u001b[0m\u001b[0;34m,\u001b[0m \u001b[0;34m\" Relative Error: \"\u001b[0m\u001b[0;34m,\u001b[0m \u001b[0mrel_error\u001b[0m\u001b[0;34m(\u001b[0m\u001b[0mp_0\u001b[0m\u001b[0;34m,\u001b[0m\u001b[0mmath\u001b[0m\u001b[0;34m.\u001b[0m\u001b[0msqrt\u001b[0m\u001b[0;34m(\u001b[0m\u001b[0ma\u001b[0m\u001b[0;34m)\u001b[0m\u001b[0;34m)\u001b[0m\u001b[0;34m)\u001b[0m\u001b[0;34m\u001b[0m\u001b[0;34m\u001b[0m\u001b[0m\n\u001b[1;32m     55\u001b[0m             \u001b[0mp_0\u001b[0m \u001b[0;34m=\u001b[0m \u001b[0;34m(\u001b[0m\u001b[0mp_0\u001b[0m \u001b[0;34m+\u001b[0m \u001b[0;34m(\u001b[0m\u001b[0ma\u001b[0m\u001b[0;34m/\u001b[0m\u001b[0mp_0\u001b[0m\u001b[0;34m)\u001b[0m\u001b[0;34m)\u001b[0m\u001b[0;34m/\u001b[0m\u001b[0;36m2\u001b[0m\u001b[0;34m\u001b[0m\u001b[0;34m\u001b[0m\u001b[0m\n\u001b[0;32m---> 56\u001b[0;31m             \u001b[0miter_limit\u001b[0m \u001b[0;34m=\u001b[0m \u001b[0miter_limit\u001b[0m\u001b[0;34m-\u001b[0m\u001b[0;36m1\u001b[0m\u001b[0;34m\u001b[0m\u001b[0;34m\u001b[0m\u001b[0m\n\u001b[0m\u001b[1;32m     57\u001b[0m         \u001b[0;32mreturn\u001b[0m \u001b[0mp_0\u001b[0m\u001b[0;34m\u001b[0m\u001b[0;34m\u001b[0m\u001b[0m\n\u001b[1;32m     58\u001b[0m \u001b[0;34m\u001b[0m\u001b[0m\n",
      "\u001b[0;31mZeroDivisionError\u001b[0m: float division by zero"
     ]
    }
   ],
   "source": [
    "# Again, the incompatibility of an initial guess of 0.\n",
    "# Because of the convergence of any guess other than 0, we can define \"egregiously careless\" as being stupid enough to guess 0 initially.\n",
    "a = 64\n",
    "hw1.babylonian_sqrt(a)"
   ]
  },
  {
   "cell_type": "markdown",
   "metadata": {},
   "source": [
    "## 5 Generalizing for Arbitrary Polynomial Roots\n",
    "(a) Since we have a polynomial with real roots and a continuous first derivative in the neighborhood of the roots, the Newton-Raphson method of generating arbitrary polynomial roots works as an iterative map in the same way the Babylonian algorithm does for square roots. The map follows Proposition 3 since guesses in the neighborhood of the root will yield a tangent line with which we further iterate the map. We can classify the three roots as attractors or repellers based on the iterations of generated tangent lines (if the slope of the tangent approaches zero we know the root is an attractor, a repeller otherwise)."
   ]
  },
  {
   "cell_type": "code",
   "execution_count": 5,
   "metadata": {},
   "outputs": [
    {
     "name": "stdout",
     "output_type": "stream",
     "text": [
      "Initial guess: 1.4\n",
      "1.0180508629259648\n",
      "1.0004690049960514\n",
      "1.0000003295878506\n",
      "1.000000000000163\n"
     ]
    },
    {
     "data": {
      "text/plain": [
       "1.000000000000163"
      ]
     },
     "execution_count": 5,
     "metadata": {},
     "output_type": "execute_result"
    }
   ],
   "source": [
    "# Convergence to the first positive root\n",
    "hw1.poly_root()"
   ]
  },
  {
   "cell_type": "code",
   "execution_count": 6,
   "metadata": {},
   "outputs": [
    {
     "name": "stdout",
     "output_type": "stream",
     "text": [
      "Initial guess: -1.4\n",
      "-1.0180508629259648\n",
      "-1.0004690049960514\n",
      "-1.0000003295878506\n",
      "-1.000000000000163\n"
     ]
    },
    {
     "data": {
      "text/plain": [
       "-1.000000000000163"
      ]
     },
     "execution_count": 6,
     "metadata": {},
     "output_type": "execute_result"
    }
   ],
   "source": [
    "# Convergence to the first negative root\n",
    "hw1.poly_root()"
   ]
  },
  {
   "cell_type": "code",
   "execution_count": 13,
   "metadata": {},
   "outputs": [
    {
     "name": "stdout",
     "output_type": "stream",
     "text": [
      "Initial guess: 0.4\n",
      "0.036456687657150544\n",
      "-9.729639046062583e-05\n",
      "1.842129652485959e-12\n",
      "0.0\n"
     ]
    },
    {
     "data": {
      "text/plain": [
       "0.0"
      ]
     },
     "execution_count": 13,
     "metadata": {},
     "output_type": "execute_result"
    }
   ],
   "source": [
    "# Convergence to the zero root\n",
    "hw1.poly_root()"
   ]
  },
  {
   "cell_type": "markdown",
   "metadata": {},
   "source": [
    "(b) When we start with the initial guess of $P_0 = \\frac{1}{\\sqrt{5}}$ we observe a 2-cycle instead of convergence. The lack of convergence suggests that there exist regions outside of the basins of attraction in which we cannot approximate roots. By symmetry since f(x) is odd, we know $P_0 = -\\frac{1}{\\sqrt{5}}$ also results in a 2-cycle and fails to converge. We also fail to converge on a root when we guess a critical point of the polynomial (where the first order derivative at the guess vanishes). $P_0 = \\pm\\frac{1}{\\sqrt{3}}$ yield divide by zero errors."
   ]
  },
  {
   "cell_type": "code",
   "execution_count": 19,
   "metadata": {},
   "outputs": [
    {
     "name": "stdout",
     "output_type": "stream",
     "text": [
      "Initial guess 1/sqrt(5): \n",
      "0.4472135954999579\n",
      "-0.4472135954999579\n",
      "0.4472135954999579\n",
      "-0.4472135954999579\n",
      "0.4472135954999579\n",
      "-0.4472135954999579\n",
      "0.4472135954999579\n",
      "-0.4472135954999579\n",
      "0.4472135954999579\n",
      "-0.4472135954999579\n",
      "0.4472135954999579\n",
      "-0.4472135954999579\n",
      "0.4472135954999579\n",
      "-0.4472135954999579\n",
      "0.4472135954999579\n",
      "-0.4472135954999579\n",
      "0.4472135954999579\n",
      "Initial guess -1/sqrt(5): \n",
      "-0.4472135954999579\n",
      "0.4472135954999579\n",
      "-0.4472135954999579\n",
      "0.4472135954999579\n",
      "-0.4472135954999579\n",
      "0.4472135954999579\n",
      "-0.4472135954999579\n",
      "0.4472135954999579\n",
      "-0.4472135954999579\n",
      "0.4472135954999579\n",
      "-0.4472135954999579\n",
      "0.4472135954999579\n",
      "-0.4472135954999579\n",
      "0.4472135954999579\n",
      "-0.4472135954999579\n",
      "0.4472135954999579\n",
      "-0.4472135954999579\n"
     ]
    },
    {
     "data": {
      "text/plain": [
       "-0.4472135954999579"
      ]
     },
     "execution_count": 19,
     "metadata": {},
     "output_type": "execute_result"
    }
   ],
   "source": [
    "# (b) Modify the poly_root function to start with P_0 = 1/sqrt(5) or P_0 = -1/sqrt(5)\n",
    "\n",
    "import math\n",
    "def sqrt5_poly_root(pos=True):\n",
    "    \"\"\"\n",
    "    given polynomial f and f_deriv\n",
    "    p_n = (p_0 - f(p_0)/f_deriv(p_0))\n",
    "    \"\"\"\n",
    "    if (pos):\n",
    "        p_0 = 1/(math.sqrt(5))\n",
    "    else: \n",
    "        p_0 = -1/(math.sqrt(5))\n",
    "    f = p_0*p_0*p_0 - p_0\n",
    "    f_deriv = 3*p_0*p_0 - 1\n",
    "    p_n = (p_0 - (f/f_deriv))\n",
    "    iter_limit = 17\n",
    "    while(abs(p_0 - p_n) > 0.00001 and iter_limit>0):\n",
    "        p_0 = p_n\n",
    "        f = p_0*p_0*p_0 - p_0\n",
    "        f_deriv = 3*p_0*p_0 - 1\n",
    "        p_n = (p_0 - (f/f_deriv))\n",
    "        iter_limit = iter_limit-1\n",
    "        print(p_n)\n",
    "    return p_n\n",
    "print(\"Initial guess 1/sqrt(5): \")\n",
    "sqrt5_poly_root(True)\n",
    "print(\"Initial guess -1/sqrt(5): \")\n",
    "sqrt5_poly_root(False)"
   ]
  },
  {
   "cell_type": "code",
   "execution_count": 26,
   "metadata": {},
   "outputs": [
    {
     "name": "stdout",
     "output_type": "stream",
     "text": [
      "Initial guess 1/sqrt(3): \n",
      "1155624203193180.0\n",
      "770416135462120.0\n",
      "513610756974746.7\n",
      "342407171316497.75\n",
      "228271447544331.8\n",
      "152180965029554.56\n",
      "101453976686369.7\n",
      "67635984457579.8\n",
      "45090656305053.2\n",
      "30060437536702.133\n",
      "20040291691134.758\n",
      "13360194460756.504\n",
      "8906796307171.002\n",
      "5937864204780.668\n",
      "3958576136520.4453\n",
      "2639050757680.297\n",
      "1759367171786.8645\n",
      "Initial guess -1/sqrt(3): \n",
      "-1155624203193180.0\n",
      "-770416135462120.0\n",
      "-513610756974746.7\n",
      "-342407171316497.75\n",
      "-228271447544331.8\n",
      "-152180965029554.56\n",
      "-101453976686369.7\n",
      "-67635984457579.8\n",
      "-45090656305053.2\n",
      "-30060437536702.133\n",
      "-20040291691134.758\n",
      "-13360194460756.504\n",
      "-8906796307171.002\n",
      "-5937864204780.668\n",
      "-3958576136520.4453\n",
      "-2639050757680.297\n",
      "-1759367171786.8645\n"
     ]
    },
    {
     "data": {
      "text/plain": [
       "-1759367171786.8645"
      ]
     },
     "execution_count": 26,
     "metadata": {},
     "output_type": "execute_result"
    }
   ],
   "source": [
    "# Technically, we should get a divide by zero error, but since Python is quite precise and my function is not, we observe divergence instead.\n",
    "import math\n",
    "def sqrt3_poly_root(pos=True):\n",
    "    \"\"\"\n",
    "    given polynomial f and f_deriv\n",
    "    p_n = (p_0 - f(p_0)/f_deriv(p_0))\n",
    "    \"\"\"\n",
    "    if (pos):\n",
    "        p_0 = 1/(math.sqrt(3))\n",
    "    else: \n",
    "        p_0 = -1/(math.sqrt(3))\n",
    "    f = p_0*p_0*p_0 - p_0\n",
    "    f_deriv = 3*p_0*p_0 - 1\n",
    "    p_n = (p_0 - (f/f_deriv))\n",
    "    iter_limit = 17\n",
    "    while(abs(p_0 - p_n) > 0.00001 and iter_limit>0):\n",
    "        p_0 = p_n\n",
    "        f = p_0**3 - p_0\n",
    "        f_deriv = 3*p_0**2 - 1\n",
    "        p_n = (p_0 - (f/f_deriv))\n",
    "        iter_limit = iter_limit-1\n",
    "        print(p_n)\n",
    "    return p_n\n",
    "print(\"Initial guess 1/sqrt(3): \")\n",
    "sqrt3_poly_root(True)\n",
    "print(\"Initial guess -1/sqrt(3): \")\n",
    "sqrt3_poly_root(False)"
   ]
  },
  {
   "cell_type": "markdown",
   "metadata": {},
   "source": [
    "Most interestingly however is the behavior of the set of initial guesses $S = \\{P_0\\}$ within the interval of the diverging initial points, i.e. where $P_0 \\in (-\\frac{1}{\\sqrt{3}},-\\frac{1}{\\sqrt{5}}) \\cup (\\frac{1}{\\sqrt{5}},\\frac{1}{\\sqrt{3}})$. Because of the symmetry of f(x), we'll only study the positive interval and generalize."
   ]
  },
  {
   "cell_type": "code",
   "execution_count": 23,
   "metadata": {},
   "outputs": [
    {
     "name": "stdout",
     "output_type": "stream",
     "text": [
      "Initial guess: 0.5\n",
      "-1.0\n",
      "Initial guess: -0.5\n",
      "1.0\n"
     ]
    },
    {
     "data": {
      "text/plain": [
       "1.0"
      ]
     },
     "execution_count": 23,
     "metadata": {},
     "output_type": "execute_result"
    }
   ],
   "source": [
    "# First we observe weird behavior for other intial guesses, such as +/- 0.5. \n",
    "hw1.poly_root()"
   ]
  },
  {
   "cell_type": "markdown",
   "metadata": {},
   "source": [
    "It seems as though these two intervals alternate between a basin of attraction for +1, B(1), and a basin of attraction for -1, B(-1). \n",
    "\n",
    "Qualitatively, this can be explained by the behavior of the tangent line during the first map iteration. For example, the first iteration ($P_1$) of initial points slightly less than $\\frac{1}{\\sqrt{3}}$ will be a massive negative number, decreasing (becoming less negative) as we move further away from $\\frac{1}{\\sqrt{3}}$. Thus, these initial guesses fall in B(-1) even though the guess is relatively close to the positive root and should be in B(1). \n",
    "\n",
    "But because f(x) is continuous, we know there will be a moment in the interval where $P_1 = $-\\frac{1}{\\sqrt{3}}$. Here the method should fail, though my function is not robust enough to deal with the discontinuity."
   ]
  },
  {
   "cell_type": "code",
   "execution_count": 29,
   "metadata": {},
   "outputs": [
    {
     "name": "stdout",
     "output_type": "stream",
     "text": [
      "Initial guess: 0.5673502692\n",
      "-7.1114968222677355\n",
      "-4.7724535132272035\n",
      "-3.2288907754244587\n",
      "-2.2236900334960232\n",
      "-1.589617605557206\n",
      "-1.2207845853996744\n",
      "-1.0483332798421363\n",
      "-1.0031493756900487\n",
      "-1.000014769325946\n",
      "-1.000000000327188\n",
      "-1.0\n"
     ]
    },
    {
     "data": {
      "text/plain": [
       "-1.0"
      ]
     },
     "execution_count": 29,
     "metadata": {},
     "output_type": "execute_result"
    }
   ],
   "source": [
    "# Guessing a number slightly to the left of 1/sqrt(3) \n",
    "# B(-1)\n",
    "hw1.poly_root()"
   ]
  },
  {
   "cell_type": "code",
   "execution_count": 27,
   "metadata": {},
   "outputs": [
    {
     "name": "stdout",
     "output_type": "stream",
     "text": [
      "Initial guess: 0.465601\n",
      "-35222.68782620904\n",
      "-23481.791890448425\n",
      "-15654.527936429213\n",
      "-10436.351971814871\n",
      "-6957.568002503008\n",
      "-4638.37870027498\n",
      "-3092.252514759448\n",
      "-2061.501748370491\n",
      "-1374.3346067099505\n",
      "-916.2232328344048\n",
      "-610.8157310979373\n",
      "-407.2108512111618\n",
      "-271.4744465263685\n",
      "-180.98378292971478\n",
      "-120.65708315606844\n",
      "-80.43989724645212\n",
      "-53.62936089372114\n",
      "-35.75705140994906\n",
      "-23.844250674367377\n",
      "-15.905492323735222\n",
      "-10.617651396476322\n",
      "-7.099425840415352\n",
      "-4.764460386771004\n",
      "-3.2236436632519867\n",
      "-2.2203153454228457\n",
      "-1.587554288414209\n",
      "-1.2196821010120988\n",
      "-1.0479325919369995\n",
      "-1.0030999739802455\n",
      "-1.0000143112484803\n",
      "-1.0000000003072076\n",
      "-1.0\n"
     ]
    },
    {
     "data": {
      "text/plain": [
       "-1.0"
      ]
     },
     "execution_count": 27,
     "metadata": {},
     "output_type": "execute_result"
    }
   ],
   "source": [
    "# Guessing the boundary of the first alternating basin, where P_1=1/sqrt(3) (solve analytically using the Newton-Raphson map)\n",
    "# Python really needs more precision, this should yield another divergent point.\n",
    "hw1.poly_root()"
   ]
  },
  {
   "cell_type": "code",
   "execution_count": 28,
   "metadata": {},
   "outputs": [
    {
     "name": "stdout",
     "output_type": "stream",
     "text": [
      "Initial guess: 0.465600\n",
      "21456.464301522414\n",
      "14304.309544705166\n",
      "9536.206378672112\n",
      "6357.470942417742\n",
      "4238.313996566329\n",
      "2825.542716809304\n",
      "1883.6952231871633\n",
      "1255.7969334295515\n",
      "837.1981325768693\n",
      "558.1323538203459\n",
      "372.0886340339274\n",
      "248.05968658665665\n",
      "165.37402023770122\n",
      "110.25069059684904\n",
      "73.5024760616127\n",
      "49.004674224033494\n",
      "32.674318160364095\n",
      "21.789682025776017\n",
      "14.536660355777524\n",
      "9.706418076437716\n",
      "6.493921031905671\n",
      "4.363773366902735\n",
      "2.9610138680672087\n",
      "2.0520246631794143\n",
      "1.4856202556959026\n",
      "1.1666059609217103\n",
      "1.030011201058879\n",
      "1.0012626516107856\n",
      "1.0000023844089314\n",
      "1.000000000008528\n"
     ]
    },
    {
     "data": {
      "text/plain": [
       "1.000000000008528"
      ]
     },
     "execution_count": 28,
     "metadata": {},
     "output_type": "execute_result"
    }
   ],
   "source": [
    "# Guessing below the boundary of the first alternating basin, where P_1=1/sqrt(3)\n",
    "# B(1)\n",
    "hw1.poly_root()"
   ]
  },
  {
   "cell_type": "markdown",
   "metadata": {},
   "source": [
    "The structure of these regions of alternating basins would be interesting to study. I wonder if the length of the alternating basins carry some structure. "
   ]
  },
  {
   "cell_type": "code",
   "execution_count": null,
   "metadata": {},
   "outputs": [],
   "source": []
  }
 ],
 "metadata": {
  "kernelspec": {
   "display_name": "Python 3",
   "language": "python",
   "name": "python3"
  },
  "language_info": {
   "codemirror_mode": {
    "name": "ipython",
    "version": 3
   },
   "file_extension": ".py",
   "mimetype": "text/x-python",
   "name": "python",
   "nbconvert_exporter": "python",
   "pygments_lexer": "ipython3",
   "version": "3.7.2"
  }
 },
 "nbformat": 4,
 "nbformat_minor": 4
}
